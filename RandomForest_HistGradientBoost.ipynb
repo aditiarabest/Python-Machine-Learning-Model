{
 "cells": [
  {
   "cell_type": "code",
   "execution_count": 1,
   "id": "d7f6043f",
   "metadata": {},
   "outputs": [
    {
     "data": {
      "text/plain": [
       "(307511, 122)"
      ]
     },
     "execution_count": 1,
     "metadata": {},
     "output_type": "execute_result"
    }
   ],
   "source": [
    "import pandas as pd  # Import the pandas library and alias it as pd\n",
    "\n",
    "df = pd.read_csv('application_train.csv')  # Read the CSV file into a DataFrame named df\n",
    "df.shape  # Print the shape of the DataFrame (number of rows, number of columns)"
   ]
  },
  {
   "cell_type": "code",
   "execution_count": 2,
   "id": "e2e0a93c",
   "metadata": {},
   "outputs": [
    {
     "name": "stdout",
     "output_type": "stream",
     "text": [
      "<class 'pandas.core.frame.DataFrame'>\n",
      "RangeIndex: 307511 entries, 0 to 307510\n",
      "Columns: 122 entries, SK_ID_CURR to AMT_REQ_CREDIT_BUREAU_YEAR\n",
      "dtypes: float64(65), int64(41), object(16)\n",
      "memory usage: 286.2+ MB\n",
      "None\n"
     ]
    }
   ],
   "source": [
    "print(df.info())"
   ]
  },
  {
   "cell_type": "code",
   "execution_count": 3,
   "id": "a0b559ec",
   "metadata": {},
   "outputs": [],
   "source": [
    "# Load the CSV files into DataFrames\n",
    "application_train = pd.read_csv('application_train.csv')\n",
    "application_test = pd.read_csv('application_test.csv')"
   ]
  },
  {
   "cell_type": "code",
   "execution_count": 4,
   "id": "98cf6417",
   "metadata": {},
   "outputs": [
    {
     "name": "stdout",
     "output_type": "stream",
     "text": [
      "<class 'pandas.core.frame.DataFrame'>\n",
      "RangeIndex: 307511 entries, 0 to 307510\n",
      "Columns: 122 entries, SK_ID_CURR to AMT_REQ_CREDIT_BUREAU_YEAR\n",
      "dtypes: float64(65), int64(41), object(16)\n",
      "memory usage: 286.2+ MB\n",
      "None\n"
     ]
    }
   ],
   "source": [
    "print(application_train.info())"
   ]
  },
  {
   "cell_type": "code",
   "execution_count": 5,
   "id": "0d65d261",
   "metadata": {},
   "outputs": [
    {
     "name": "stdout",
     "output_type": "stream",
     "text": [
      "<class 'pandas.core.frame.DataFrame'>\n",
      "RangeIndex: 48744 entries, 0 to 48743\n",
      "Columns: 121 entries, SK_ID_CURR to AMT_REQ_CREDIT_BUREAU_YEAR\n",
      "dtypes: float64(65), int64(40), object(16)\n",
      "memory usage: 45.0+ MB\n",
      "None\n"
     ]
    }
   ],
   "source": [
    "print(application_test.info())"
   ]
  },
  {
   "cell_type": "code",
   "execution_count": 6,
   "id": "445d9984",
   "metadata": {},
   "outputs": [
    {
     "name": "stdout",
     "output_type": "stream",
     "text": [
      "SK_ID_CURR                    0\n",
      "TARGET                        0\n",
      "NAME_CONTRACT_TYPE            0\n",
      "CODE_GENDER                   0\n",
      "FLAG_OWN_CAR                  0\n",
      "                             ..\n",
      "AMT_REQ_CREDIT_BUREAU_DAY     0\n",
      "AMT_REQ_CREDIT_BUREAU_WEEK    0\n",
      "AMT_REQ_CREDIT_BUREAU_MON     0\n",
      "AMT_REQ_CREDIT_BUREAU_QRT     0\n",
      "AMT_REQ_CREDIT_BUREAU_YEAR    0\n",
      "Length: 122, dtype: int64\n",
      "SK_ID_CURR                    0\n",
      "NAME_CONTRACT_TYPE            0\n",
      "CODE_GENDER                   0\n",
      "FLAG_OWN_CAR                  0\n",
      "FLAG_OWN_REALTY               0\n",
      "                             ..\n",
      "AMT_REQ_CREDIT_BUREAU_DAY     0\n",
      "AMT_REQ_CREDIT_BUREAU_WEEK    0\n",
      "AMT_REQ_CREDIT_BUREAU_MON     0\n",
      "AMT_REQ_CREDIT_BUREAU_QRT     0\n",
      "AMT_REQ_CREDIT_BUREAU_YEAR    0\n",
      "Length: 121, dtype: int64\n"
     ]
    }
   ],
   "source": [
    "from sklearn.impute import SimpleImputer\n",
    "\n",
    "# Identify numerical and categorical columns\n",
    "numerical_columns = application_train.select_dtypes(include=['number']).columns\n",
    "numerical_columns = application_test.select_dtypes(include=['number']).columns\n",
    "# Impute numerical columns with mean\n",
    "numerical_imputer = SimpleImputer(strategy='mean')\n",
    "application_train[numerical_columns] = numerical_imputer.fit_transform(application_train[numerical_columns])\n",
    "application_test[numerical_columns] = numerical_imputer.fit_transform(application_test[numerical_columns])\n",
    "\n",
    "missing_values1 = application_train.isnull().sum()\n",
    "missing_values2 = application_test.isnull().sum()\n",
    "\n",
    "# Display the result\n",
    "print(missing_values1)\n",
    "print(missing_values2)"
   ]
  },
  {
   "cell_type": "code",
   "execution_count": 7,
   "id": "b51cebe8",
   "metadata": {},
   "outputs": [
    {
     "name": "stdout",
     "output_type": "stream",
     "text": [
      "NAME_TYPE_SUITE          1292\n",
      "OCCUPATION_TYPE         96391\n",
      "FONDKAPREMONT_MODE     210295\n",
      "HOUSETYPE_MODE         154297\n",
      "WALLSMATERIAL_MODE     156341\n",
      "EMERGENCYSTATE_MODE    145755\n",
      "dtype: int64\n",
      "NAME_TYPE_SUITE          911\n",
      "OCCUPATION_TYPE        15605\n",
      "FONDKAPREMONT_MODE     32797\n",
      "HOUSETYPE_MODE         23619\n",
      "WALLSMATERIAL_MODE     23893\n",
      "EMERGENCYSTATE_MODE    22209\n",
      "dtype: int64\n"
     ]
    }
   ],
   "source": [
    "# Filter columns with missing values\n",
    "columns_with_missing_values1 = missing_values1[missing_values1 > 0]\n",
    "columns_with_missing_values2 = missing_values2[missing_values2 > 0]\n",
    "\n",
    "# Display columns with missing values\n",
    "print(columns_with_missing_values1)\n",
    "print(columns_with_missing_values2)"
   ]
  },
  {
   "cell_type": "code",
   "execution_count": 8,
   "id": "5313adb5",
   "metadata": {},
   "outputs": [
    {
     "name": "stdout",
     "output_type": "stream",
     "text": [
      "<class 'pandas.core.frame.DataFrame'>\n",
      "RangeIndex: 307511 entries, 0 to 307510\n",
      "Columns: 122 entries, SK_ID_CURR to AMT_REQ_CREDIT_BUREAU_YEAR\n",
      "dtypes: float64(105), int64(1), object(16)\n",
      "memory usage: 286.2+ MB\n",
      "None\n",
      "<class 'pandas.core.frame.DataFrame'>\n",
      "RangeIndex: 48744 entries, 0 to 48743\n",
      "Columns: 121 entries, SK_ID_CURR to AMT_REQ_CREDIT_BUREAU_YEAR\n",
      "dtypes: float64(105), object(16)\n",
      "memory usage: 45.0+ MB\n",
      "None\n"
     ]
    }
   ],
   "source": [
    "print(application_train.info())\n",
    "print(application_test.info())"
   ]
  },
  {
   "cell_type": "code",
   "execution_count": 9,
   "id": "46e4d87a",
   "metadata": {},
   "outputs": [
    {
     "name": "stdout",
     "output_type": "stream",
     "text": [
      "3 columns were label encoded.\n"
     ]
    }
   ],
   "source": [
    "from sklearn.preprocessing import LabelEncoder\n",
    "\n",
    "# Load the CSV files into DataFrames\n",
    "application_train = pd.read_csv('application_train.csv')\n",
    "application_test = pd.read_csv('application_test.csv')\n",
    "\n",
    "# Initialize LabelEncoder\n",
    "le = LabelEncoder()\n",
    "le_count = 0\n",
    "\n",
    "# Iterate over columns in the training set\n",
    "for col in application_train.columns:\n",
    "    if application_train[col].dtype == 'object':\n",
    "        if len(application_train[col].unique()) <= 2:\n",
    "            le.fit(application_train[col])\n",
    "            application_train[col] = le.transform(application_train[col])\n",
    "            application_test[col] = le.transform(application_test[col])\n",
    "            le_count += 1\n",
    "\n",
    "print('%d columns were label encoded.' % le_count)"
   ]
  },
  {
   "cell_type": "code",
   "execution_count": null,
   "id": "e87b1fe4",
   "metadata": {},
   "outputs": [],
   "source": [
    "# Before one-hot encoding\n",
    "print(\"Before one-hot encoding:\", len(application_train.columns))\n",
    "\n",
    "# Identify categorical columns\n",
    "categorical_columns_train = application_train.select_dtypes('object').columns\n",
    "categorical_columns_test = application_test.select_dtypes('object').columns\n",
    "\n",
    "# Apply one-hot encoding to the training set\n",
    "application_train = pd.get_dummies(application_train, columns=categorical_columns_train)\n",
    "\n",
    "# Apply one-hot encoding to the test set\n",
    "application_test = pd.get_dummies(application_test, columns=categorical_columns_test)\n",
    "\n",
    "# Before alignment\n",
    "print(\"Before alignment:\", len(application_train.columns), len(application_test.columns))\n",
    "\n",
    "# Ensure that both datasets have the same columns after one-hot encoding\n",
    "common_columns = list(set(application_train.columns) & set(application_test.columns))\n",
    "application_train = application_train[common_columns]\n",
    "application_test = application_test[common_columns]\n",
    "\n",
    "# After alignment\n",
    "print(\"After alignment:\", len(application_train.columns), len(application_test.columns))"
   ]
  },
  {
   "cell_type": "code",
   "execution_count": null,
   "id": "1aa3d769",
   "metadata": {},
   "outputs": [],
   "source": [
    "application_train['TARGET'] = train_labels"
   ]
  },
  {
   "cell_type": "code",
   "execution_count": 10,
   "id": "854b26fc",
   "metadata": {},
   "outputs": [
    {
     "name": "stdout",
     "output_type": "stream",
     "text": [
      "Before one-hot encoding: 122\n",
      "Before alignment: 243 239\n",
      "After alignment: 240 239\n"
     ]
    }
   ],
   "source": [
    "# Before one-hot encoding\n",
    "print(\"Before one-hot encoding:\", len(application_train.columns))\n",
    "\n",
    "# Identify categorical columns\n",
    "categorical_columns_train = application_train.select_dtypes('object').columns\n",
    "categorical_columns_test = application_test.select_dtypes('object').columns\n",
    "train_labels = application_train['TARGET']\n",
    "# Apply one-hot encoding to the training set\n",
    "application_train = pd.get_dummies(application_train, columns=categorical_columns_train)\n",
    "\n",
    "# Apply one-hot encoding to the test set\n",
    "application_test = pd.get_dummies(application_test, columns=categorical_columns_test)\n",
    "\n",
    "# Before alignment\n",
    "print(\"Before alignment:\", len(application_train.columns), len(application_test.columns))\n",
    "\n",
    "# Ensure that both datasets have the same columns after one-hot encoding\n",
    "common_columns = list(set(application_train.columns) & set(application_test.columns))\n",
    "application_train = application_train[common_columns]\n",
    "application_test = application_test[common_columns]\n",
    "application_train['TARGET'] = train_labels\n",
    "# After alignment\n",
    "print(\"After alignment:\", len(application_train.columns), len(application_test.columns))"
   ]
  },
  {
   "cell_type": "code",
   "execution_count": 11,
   "id": "4525bc37",
   "metadata": {},
   "outputs": [
    {
     "name": "stdout",
     "output_type": "stream",
     "text": [
      "count    307511.000000\n",
      "mean         43.936973\n",
      "std          11.956133\n",
      "min          20.517808\n",
      "25%          34.008219\n",
      "50%          43.150685\n",
      "75%          53.923288\n",
      "max          69.120548\n",
      "Name: DAYS_BIRTH, dtype: float64\n"
     ]
    }
   ],
   "source": [
    "years_birth = application_train['DAYS_BIRTH'] / -365\n",
    "print(years_birth.describe())\n",
    "# checking DAYS_BIRTH anomalies"
   ]
  },
  {
   "cell_type": "code",
   "execution_count": 12,
   "id": "264ac378",
   "metadata": {},
   "outputs": [
    {
     "name": "stdout",
     "output_type": "stream",
     "text": [
      "count    307511.000000\n",
      "mean      63815.045904\n",
      "std      141275.766519\n",
      "min      -17912.000000\n",
      "25%       -2760.000000\n",
      "50%       -1213.000000\n",
      "75%        -289.000000\n",
      "max      365243.000000\n",
      "Name: DAYS_EMPLOYED, dtype: float64\n"
     ]
    }
   ],
   "source": [
    "years_employed = application_train['DAYS_EMPLOYED']\n",
    "print(years_employed.describe())\n",
    "# checking DAYS_EMPLOYED anomalies"
   ]
  },
  {
   "cell_type": "code",
   "execution_count": 13,
   "id": "25cd3222",
   "metadata": {},
   "outputs": [
    {
     "data": {
      "image/png": "[encoded data removed]",
      "text/plain": [
       "<Figure size 640x480 with 1 Axes>"
      ]
     },
     "metadata": {},
     "output_type": "display_data"
    }
   ],
   "source": [
    "import matplotlib.pyplot as plt\n",
    "# trying to do additional EDA\n",
    "# Assuming 'application.train' is actually 'application_train'\n",
    "application_train['DAYS_EMPLOYED'].plot.hist(title='Days Employment Histogram')\n",
    "plt.xlabel('Days Employment')\n",
    "plt.show()"
   ]
  },
  {
   "cell_type": "code",
   "execution_count": 14,
   "id": "0a57f737",
   "metadata": {},
   "outputs": [
    {
     "name": "stdout",
     "output_type": "stream",
     "text": [
      "The anomalies default on 5.40% of loans\n",
      "The non-anomalies default on 8.66% of loans\n",
      "There are 55374 anomalies in days of employment\n"
     ]
    }
   ],
   "source": [
    "# anomalies handling\n",
    "anom = application_train[application_train['DAYS_EMPLOYED'] == 365243]\n",
    "non_anom = application_train[application_train['DAYS_EMPLOYED'] != 365243]\n",
    "\n",
    "print('The anomalies default on %0.2f%% of loans' % (100 * anom['TARGET'].mean()))\n",
    "print('The non-anomalies default on %0.2f%% of loans' % (100 * non_anom['TARGET'].mean()))\n",
    "print('There are %d anomalies in days of employment' % len(anom))"
   ]
  },
  {
   "cell_type": "code",
   "execution_count": 15,
   "id": "98286855",
   "metadata": {},
   "outputs": [
    {
     "data": {
      "image/png": "[encoded data removed]",
      "text/plain": [
       "<Figure size 640x480 with 1 Axes>"
      ]
     },
     "metadata": {},
     "output_type": "display_data"
    }
   ],
   "source": [
    "# visualize Anomalies Histogram\n",
    "import numpy as np\n",
    "import matplotlib.pyplot as plt\n",
    "\n",
    "# Create a new column indicating anomalies in 'DAYS_EMPLOYED'\n",
    "application_train['DAYS_EMPLOYED_ANOM'] = application_train['DAYS_EMPLOYED'] == 365243\n",
    "\n",
    "# Replace 365243 with NaN in 'DAYS_EMPLOYED' column\n",
    "application_train['DAYS_EMPLOYED'].replace({365243: np.nan}, inplace=True)\n",
    "\n",
    "# Plot the histogram\n",
    "application_train['DAYS_EMPLOYED'].plot.hist(title='Days Employment Histogram')\n",
    "plt.xlabel('Days Employment')\n",
    "plt.show()"
   ]
  },
  {
   "cell_type": "code",
   "execution_count": 16,
   "id": "d99f84a1",
   "metadata": {},
   "outputs": [
    {
     "name": "stdout",
     "output_type": "stream",
     "text": [
      "There are 9274 anomalies in the test data out of 48744\n"
     ]
    }
   ],
   "source": [
    "# Create a new column indicating anomalies in 'DAYS_EMPLOYED' for the test data\n",
    "application_test['DAYS_EMPLOYED_ANOM'] = application_test['DAYS_EMPLOYED'] == 365243\n",
    "\n",
    "# Replace 365243 with NaN in 'DAYS_EMPLOYED' column for the test data\n",
    "application_test['DAYS_EMPLOYED'].replace({365243: np.nan}, inplace=True)\n",
    "\n",
    "# Print the number of anomalies in the test data\n",
    "print('There are %d anomalies in the test data out of %d' % (application_test['DAYS_EMPLOYED_ANOM'].sum(), len(application_test)))"
   ]
  },
  {
   "cell_type": "code",
   "execution_count": 17,
   "id": "0bd354f1",
   "metadata": {},
   "outputs": [
    {
     "name": "stdout",
     "output_type": "stream",
     "text": [
      "Most positive correlations:\n",
      " OCCUPATION_TYPE_Laborers                             0.043019\n",
      "FLAG_DOCUMENT_3                                      0.044346\n",
      "REG_CITY_NOT_LIVE_CITY                               0.044395\n",
      "FLAG_EMP_PHONE                                       0.045982\n",
      "NAME_EDUCATION_TYPE_Secondary / secondary special    0.049824\n",
      "REG_CITY_NOT_WORK_CITY                               0.050994\n",
      "DAYS_ID_PUBLISH                                      0.051457\n",
      "CODE_GENDER_M                                        0.054713\n",
      "DAYS_LAST_PHONE_CHANGE                               0.055218\n",
      "NAME_INCOME_TYPE_Working                             0.057481\n",
      "REGION_RATING_CLIENT                                 0.058899\n",
      "REGION_RATING_CLIENT_W_CITY                          0.060893\n",
      "DAYS_EMPLOYED                                        0.074958\n",
      "DAYS_BIRTH                                           0.078239\n",
      "TARGET                                               1.000000\n",
      "Name: TARGET, dtype: float64\n",
      "Most negative correlations:\n",
      " EXT_SOURCE_3                           -0.178919\n",
      "EXT_SOURCE_2                           -0.160472\n",
      "EXT_SOURCE_1                           -0.155317\n",
      "NAME_EDUCATION_TYPE_Higher education   -0.056593\n",
      "CODE_GENDER_F                          -0.054704\n",
      "NAME_INCOME_TYPE_Pensioner             -0.046209\n",
      "ORGANIZATION_TYPE_XNA                  -0.045987\n",
      "DAYS_EMPLOYED_ANOM                     -0.045987\n",
      "FLOORSMAX_AVG                          -0.044003\n",
      "FLOORSMAX_MEDI                         -0.043768\n",
      "FLOORSMAX_MODE                         -0.043226\n",
      "EMERGENCYSTATE_MODE_No                 -0.042201\n",
      "HOUSETYPE_MODE_block of flats          -0.040594\n",
      "AMT_GOODS_PRICE                        -0.039645\n",
      "REGION_POPULATION_RELATIVE             -0.037227\n",
      "Name: TARGET, dtype: float64\n"
     ]
    }
   ],
   "source": [
    "# Showing data correlations\n",
    "correlations = application_train.corr()['TARGET'].sort_values()\n",
    "\n",
    "print('Most positive correlations:\\n', correlations.tail(15))\n",
    "print('Most negative correlations:\\n', correlations.head(15))"
   ]
  },
  {
   "cell_type": "code",
   "execution_count": 18,
   "id": "ee017163",
   "metadata": {},
   "outputs": [
    {
     "data": {
      "text/html": [
       "<div>\n",
       "<style scoped>\n",
       "    .dataframe tbody tr th:only-of-type {\n",
       "        vertical-align: middle;\n",
       "    }\n",
       "\n",
       "    .dataframe tbody tr th {\n",
       "        vertical-align: top;\n",
       "    }\n",
       "\n",
       "    .dataframe thead th {\n",
       "        text-align: right;\n",
       "    }\n",
       "</style>\n",
       "<table border=\"1\" class=\"dataframe\">\n",
       "  <thead>\n",
       "    <tr style=\"text-align: right;\">\n",
       "      <th></th>\n",
       "      <th>TARGET</th>\n",
       "      <th>EXT_SOURCE_1</th>\n",
       "      <th>EXT_SOURCE_3</th>\n",
       "      <th>EXT_SOURCE_2</th>\n",
       "      <th>DAYS_BIRTH</th>\n",
       "    </tr>\n",
       "  </thead>\n",
       "  <tbody>\n",
       "    <tr>\n",
       "      <th>TARGET</th>\n",
       "      <td>1.000000</td>\n",
       "      <td>-0.155317</td>\n",
       "      <td>-0.178919</td>\n",
       "      <td>-0.160472</td>\n",
       "      <td>0.078239</td>\n",
       "    </tr>\n",
       "    <tr>\n",
       "      <th>EXT_SOURCE_1</th>\n",
       "      <td>-0.155317</td>\n",
       "      <td>1.000000</td>\n",
       "      <td>0.186846</td>\n",
       "      <td>0.213982</td>\n",
       "      <td>-0.600610</td>\n",
       "    </tr>\n",
       "    <tr>\n",
       "      <th>EXT_SOURCE_3</th>\n",
       "      <td>-0.178919</td>\n",
       "      <td>0.186846</td>\n",
       "      <td>1.000000</td>\n",
       "      <td>0.109167</td>\n",
       "      <td>-0.205478</td>\n",
       "    </tr>\n",
       "    <tr>\n",
       "      <th>EXT_SOURCE_2</th>\n",
       "      <td>-0.160472</td>\n",
       "      <td>0.213982</td>\n",
       "      <td>0.109167</td>\n",
       "      <td>1.000000</td>\n",
       "      <td>-0.091996</td>\n",
       "    </tr>\n",
       "    <tr>\n",
       "      <th>DAYS_BIRTH</th>\n",
       "      <td>0.078239</td>\n",
       "      <td>-0.600610</td>\n",
       "      <td>-0.205478</td>\n",
       "      <td>-0.091996</td>\n",
       "      <td>1.000000</td>\n",
       "    </tr>\n",
       "  </tbody>\n",
       "</table>\n",
       "</div>"
      ],
      "text/plain": [
       "                TARGET  EXT_SOURCE_1  EXT_SOURCE_3  EXT_SOURCE_2  DAYS_BIRTH\n",
       "TARGET        1.000000     -0.155317     -0.178919     -0.160472    0.078239\n",
       "EXT_SOURCE_1 -0.155317      1.000000      0.186846      0.213982   -0.600610\n",
       "EXT_SOURCE_3 -0.178919      0.186846      1.000000      0.109167   -0.205478\n",
       "EXT_SOURCE_2 -0.160472      0.213982      0.109167      1.000000   -0.091996\n",
       "DAYS_BIRTH    0.078239     -0.600610     -0.205478     -0.091996    1.000000"
      ]
     },
     "execution_count": 18,
     "metadata": {},
     "output_type": "execute_result"
    }
   ],
   "source": [
    "# Correlation between external source to TARGET\n",
    "ext_data = application_train[['TARGET','EXT_SOURCE_1','EXT_SOURCE_3','EXT_SOURCE_2','DAYS_BIRTH']]\n",
    "ext_data_corrs= ext_data.corr()\n",
    "ext_data_corrs"
   ]
  },
  {
   "cell_type": "code",
   "execution_count": 19,
   "id": "8e41fafe",
   "metadata": {},
   "outputs": [
    {
     "data": {
      "image/png": "[encoded data removed]",
      "text/plain": [
       "<Figure size 800x600 with 2 Axes>"
      ]
     },
     "metadata": {},
     "output_type": "display_data"
    }
   ],
   "source": [
    "# Seeing heatmap for correlations between external source to TARGET\n",
    "import seaborn as sns\n",
    "import matplotlib.pyplot as plt\n",
    "\n",
    "plt.figure(figsize=(8, 6))\n",
    "\n",
    "# Use sns.heatmap for better visualization\n",
    "sns.heatmap(ext_data_corrs, cmap=plt.cm.RdYlBu_r, vmin=-0.25, annot=True, vmax=0.6)\n",
    "\n",
    "plt.title('Correlation Heatmap')\n",
    "plt.show()"
   ]
  },
  {
   "cell_type": "code",
   "execution_count": 20,
   "id": "88a39a74",
   "metadata": {},
   "outputs": [],
   "source": [
    "application_train_domain = application_train.copy()\n",
    "application_test_domain = application_test.copy()\n",
    "\n",
    "application_train_domain['CREDIT_INCOME_PERCENT']=application_train_domain['AMT_CREDIT']/application_train_domain['AMT_INCOME_TOTAL']\n",
    "application_train_domain['ANNUITY_INCOME_PERCENT']=application_train_domain['AMT_ANNUITY']/application_train_domain['AMT_INCOME_TOTAL']\n",
    "application_train_domain['CREDIT_TERM']=application_train_domain['AMT_ANNUITY']/application_train_domain['AMT_CREDIT']\n",
    "application_train_domain['DAYS_EMPLOYED_PERCENT']=application_train_domain['DAYS_EMPLOYED']/application_train_domain['DAYS_BIRTH']"
   ]
  },
  {
   "cell_type": "code",
   "execution_count": 21,
   "id": "07b32350",
   "metadata": {},
   "outputs": [],
   "source": [
    "application_test_domain['CREDIT_INCOME_PERCENT']=application_test_domain['AMT_CREDIT']/application_test_domain['AMT_INCOME_TOTAL']\n",
    "application_test_domain['ANNUITY_INCOME_PERCENT']=application_test_domain['AMT_ANNUITY']/application_test_domain['AMT_INCOME_TOTAL']\n",
    "application_test_domain['CREDIT_TERM']=application_test_domain['AMT_ANNUITY']/application_test_domain['AMT_CREDIT']\n",
    "application_test_domain['DAYS_EMPLOYED_PERCENT']=application_test_domain['DAYS_EMPLOYED']/application_test_domain['DAYS_BIRTH']"
   ]
  },
  {
   "cell_type": "code",
   "execution_count": 23,
   "id": "78cf5ecc",
   "metadata": {},
   "outputs": [
    {
     "name": "stdout",
     "output_type": "stream",
     "text": [
      "0.6974924894711387\n",
      "1.0\n"
     ]
    }
   ],
   "source": [
    "from sklearn.metrics import roc_auc_score\n",
    "from sklearn.ensemble import RandomForestClassifier\n",
    "from sklearn.model_selection import train_test_split\n",
    "\n",
    "# Assuming 'application_train2' is your preprocessed dataset\n",
    "application_train2 = application_train.dropna()\n",
    "train = application_train2.drop(columns=['TARGET'])\n",
    "label = application_train2['TARGET']\n",
    "\n",
    "# Corrected typo: 'random state' to 'random_state'\n",
    "x_train, x_test, y_train, y_test = train_test_split(train, label, test_size=0.2, random_state=42)\n",
    "\n",
    "log_reg = RandomForestClassifier(random_state=42, class_weight='balanced')\n",
    "\n",
    "# Model training\n",
    "log_reg.fit(x_train, y_train)\n",
    "\n",
    "# Making predictions\n",
    "# Corrected syntax for accessing predicted probabilities\n",
    "log_reg_pred = log_reg.predict_proba(x_test)[:, 1]\n",
    "log_reg_pred_train = log_reg.predict_proba(x_train)[:, 1]\n",
    "\n",
    "# Corrected variable names in the roc_auc_score function\n",
    "print(roc_auc_score(y_test, log_reg_pred))\n",
    "print(roc_auc_score(y_train, log_reg_pred_train))"
   ]
  },
  {
   "cell_type": "code",
   "execution_count": 24,
   "id": "4714d982",
   "metadata": {},
   "outputs": [
    {
     "name": "stdout",
     "output_type": "stream",
     "text": [
      "0.7203647416413373\n",
      "0.7906067714329572\n"
     ]
    }
   ],
   "source": [
    "from sklearn.metrics import roc_auc_score\n",
    "from sklearn.ensemble import RandomForestClassifier\n",
    "from sklearn.model_selection import train_test_split\n",
    "\n",
    "# Assuming 'application_train2' is your preprocessed dataset\n",
    "application_train2 = application_train.dropna()\n",
    "train = application_train2.drop(columns=['TARGET'])\n",
    "label = application_train2['TARGET']\n",
    "\n",
    "# Corrected typo: 'random state' to 'random_state'\n",
    "x_train, x_test, y_train, y_test = train_test_split(train, label, test_size=0.2, random_state=42)\n",
    "\n",
    "log_reg = RandomForestClassifier(random_state=42, max_depth=3, class_weight='balanced')\n",
    "\n",
    "# Model training\n",
    "log_reg.fit(x_train, y_train)\n",
    "\n",
    "# Making predictions\n",
    "# Corrected syntax for accessing predicted probabilities\n",
    "log_reg_pred = log_reg.predict_proba(x_test)[:, 1]\n",
    "log_reg_pred_train = log_reg.predict_proba(x_train)[:, 1]\n",
    "\n",
    "# Corrected variable names in the roc_auc_score function\n",
    "print(roc_auc_score(y_test, log_reg_pred))\n",
    "print(roc_auc_score(y_train, log_reg_pred_train))"
   ]
  },
  {
   "cell_type": "code",
   "execution_count": 26,
   "id": "cf23ac34",
   "metadata": {},
   "outputs": [
    {
     "data": {
      "text/plain": [
       "['random_forest_model.joblib']"
      ]
     },
     "execution_count": 26,
     "metadata": {},
     "output_type": "execute_result"
    }
   ],
   "source": [
    "from sklearn.metrics import roc_auc_score\n",
    "from sklearn.ensemble import RandomForestClassifier\n",
    "from sklearn.model_selection import train_test_split\n",
    "import joblib\n",
    "\n",
    "# Assuming 'application_train2' is your preprocessed dataset\n",
    "application_train2 = application_train.dropna()\n",
    "train = application_train2.drop(columns=['TARGET'])\n",
    "label = application_train2['TARGET']\n",
    "\n",
    "# Corrected typo: 'random state' to 'random_state'\n",
    "x_train, x_test, y_train, y_test = train_test_split(train, label, test_size=0.2, random_state=42)\n",
    "\n",
    "log_reg = RandomForestClassifier(random_state=42, max_depth=3, class_weight='balanced')\n",
    "\n",
    "# Model training\n",
    "log_reg.fit(x_train, y_train)\n",
    "\n",
    "# Dump the trained model to a joblib file\n",
    "joblib.dump(log_reg, 'random_forest_model.joblib')"
   ]
  },
  {
   "cell_type": "code",
   "execution_count": 29,
   "id": "3d5fb78e",
   "metadata": {
    "scrolled": true
   },
   "outputs": [
    {
     "ename": "ValueError",
     "evalue": "Input X contains NaN.\nRandomForestClassifier does not accept missing values encoded as NaN natively. For supervised learning, you might want to consider sklearn.ensemble.HistGradientBoostingClassifier and Regressor which accept missing values encoded as NaNs natively. Alternatively, it is possible to preprocess the data, for instance by using an imputer transformer in a pipeline or drop samples with missing values. See https://scikit-learn.org/stable/modules/impute.html You can find a list of all estimators that handle NaN values at the following page: https://scikit-learn.org/stable/modules/impute.html#estimators-that-handle-nan-values",
     "output_type": "error",
     "traceback": [
      "\u001b[1;31m---------------------------------------------------------------------------\u001b[0m",
      "\u001b[1;31mValueError\u001b[0m                                Traceback (most recent call last)",
      "Cell \u001b[1;32mIn[29], line 7\u001b[0m\n\u001b[0;32m      4\u001b[0m new_data_processed \u001b[38;5;241m=\u001b[39m application_test\n\u001b[0;32m      6\u001b[0m \u001b[38;5;66;03m# Make predictions using the trained model\u001b[39;00m\n\u001b[1;32m----> 7\u001b[0m new_data_predictions \u001b[38;5;241m=\u001b[39m random_forest_model\u001b[38;5;241m.\u001b[39mpredict_proba(new_data_processed)[:, \u001b[38;5;241m1\u001b[39m]\n\u001b[0;32m      9\u001b[0m \u001b[38;5;66;03m# Insert predictions into the new dataset\u001b[39;00m\n\u001b[0;32m     10\u001b[0m new_data[\u001b[38;5;124m'\u001b[39m\u001b[38;5;124mPredicted_TARGET\u001b[39m\u001b[38;5;124m'\u001b[39m] \u001b[38;5;241m=\u001b[39m new_data_predictions\n",
      "File \u001b[1;32m~\\anaconda3\\Lib\\site-packages\\sklearn\\ensemble\\_forest.py:865\u001b[0m, in \u001b[0;36mForestClassifier.predict_proba\u001b[1;34m(self, X)\u001b[0m\n\u001b[0;32m    863\u001b[0m check_is_fitted(\u001b[38;5;28mself\u001b[39m)\n\u001b[0;32m    864\u001b[0m \u001b[38;5;66;03m# Check data\u001b[39;00m\n\u001b[1;32m--> 865\u001b[0m X \u001b[38;5;241m=\u001b[39m \u001b[38;5;28mself\u001b[39m\u001b[38;5;241m.\u001b[39m_validate_X_predict(X)\n\u001b[0;32m    867\u001b[0m \u001b[38;5;66;03m# Assign chunk of trees to jobs\u001b[39;00m\n\u001b[0;32m    868\u001b[0m n_jobs, _, _ \u001b[38;5;241m=\u001b[39m _partition_estimators(\u001b[38;5;28mself\u001b[39m\u001b[38;5;241m.\u001b[39mn_estimators, \u001b[38;5;28mself\u001b[39m\u001b[38;5;241m.\u001b[39mn_jobs)\n",
      "File \u001b[1;32m~\\anaconda3\\Lib\\site-packages\\sklearn\\ensemble\\_forest.py:599\u001b[0m, in \u001b[0;36mBaseForest._validate_X_predict\u001b[1;34m(self, X)\u001b[0m\n\u001b[0;32m    596\u001b[0m \u001b[38;5;250m\u001b[39m\u001b[38;5;124;03m\"\"\"\u001b[39;00m\n\u001b[0;32m    597\u001b[0m \u001b[38;5;124;03mValidate X whenever one tries to predict, apply, predict_proba.\"\"\"\u001b[39;00m\n\u001b[0;32m    598\u001b[0m check_is_fitted(\u001b[38;5;28mself\u001b[39m)\n\u001b[1;32m--> 599\u001b[0m X \u001b[38;5;241m=\u001b[39m \u001b[38;5;28mself\u001b[39m\u001b[38;5;241m.\u001b[39m_validate_data(X, dtype\u001b[38;5;241m=\u001b[39mDTYPE, accept_sparse\u001b[38;5;241m=\u001b[39m\u001b[38;5;124m\"\u001b[39m\u001b[38;5;124mcsr\u001b[39m\u001b[38;5;124m\"\u001b[39m, reset\u001b[38;5;241m=\u001b[39m\u001b[38;5;28;01mFalse\u001b[39;00m)\n\u001b[0;32m    600\u001b[0m \u001b[38;5;28;01mif\u001b[39;00m issparse(X) \u001b[38;5;129;01mand\u001b[39;00m (X\u001b[38;5;241m.\u001b[39mindices\u001b[38;5;241m.\u001b[39mdtype \u001b[38;5;241m!=\u001b[39m np\u001b[38;5;241m.\u001b[39mintc \u001b[38;5;129;01mor\u001b[39;00m X\u001b[38;5;241m.\u001b[39mindptr\u001b[38;5;241m.\u001b[39mdtype \u001b[38;5;241m!=\u001b[39m np\u001b[38;5;241m.\u001b[39mintc):\n\u001b[0;32m    601\u001b[0m     \u001b[38;5;28;01mraise\u001b[39;00m \u001b[38;5;167;01mValueError\u001b[39;00m(\u001b[38;5;124m\"\u001b[39m\u001b[38;5;124mNo support for np.int64 index based sparse matrices\u001b[39m\u001b[38;5;124m\"\u001b[39m)\n",
      "File \u001b[1;32m~\\anaconda3\\Lib\\site-packages\\sklearn\\base.py:604\u001b[0m, in \u001b[0;36mBaseEstimator._validate_data\u001b[1;34m(self, X, y, reset, validate_separately, cast_to_ndarray, **check_params)\u001b[0m\n\u001b[0;32m    602\u001b[0m         out \u001b[38;5;241m=\u001b[39m X, y\n\u001b[0;32m    603\u001b[0m \u001b[38;5;28;01melif\u001b[39;00m \u001b[38;5;129;01mnot\u001b[39;00m no_val_X \u001b[38;5;129;01mand\u001b[39;00m no_val_y:\n\u001b[1;32m--> 604\u001b[0m     out \u001b[38;5;241m=\u001b[39m check_array(X, input_name\u001b[38;5;241m=\u001b[39m\u001b[38;5;124m\"\u001b[39m\u001b[38;5;124mX\u001b[39m\u001b[38;5;124m\"\u001b[39m, \u001b[38;5;241m*\u001b[39m\u001b[38;5;241m*\u001b[39mcheck_params)\n\u001b[0;32m    605\u001b[0m \u001b[38;5;28;01melif\u001b[39;00m no_val_X \u001b[38;5;129;01mand\u001b[39;00m \u001b[38;5;129;01mnot\u001b[39;00m no_val_y:\n\u001b[0;32m    606\u001b[0m     out \u001b[38;5;241m=\u001b[39m _check_y(y, \u001b[38;5;241m*\u001b[39m\u001b[38;5;241m*\u001b[39mcheck_params)\n",
      "File \u001b[1;32m~\\anaconda3\\Lib\\site-packages\\sklearn\\utils\\validation.py:959\u001b[0m, in \u001b[0;36mcheck_array\u001b[1;34m(array, accept_sparse, accept_large_sparse, dtype, order, copy, force_all_finite, ensure_2d, allow_nd, ensure_min_samples, ensure_min_features, estimator, input_name)\u001b[0m\n\u001b[0;32m    953\u001b[0m         \u001b[38;5;28;01mraise\u001b[39;00m \u001b[38;5;167;01mValueError\u001b[39;00m(\n\u001b[0;32m    954\u001b[0m             \u001b[38;5;124m\"\u001b[39m\u001b[38;5;124mFound array with dim \u001b[39m\u001b[38;5;132;01m%d\u001b[39;00m\u001b[38;5;124m. \u001b[39m\u001b[38;5;132;01m%s\u001b[39;00m\u001b[38;5;124m expected <= 2.\u001b[39m\u001b[38;5;124m\"\u001b[39m\n\u001b[0;32m    955\u001b[0m             \u001b[38;5;241m%\u001b[39m (array\u001b[38;5;241m.\u001b[39mndim, estimator_name)\n\u001b[0;32m    956\u001b[0m         )\n\u001b[0;32m    958\u001b[0m     \u001b[38;5;28;01mif\u001b[39;00m force_all_finite:\n\u001b[1;32m--> 959\u001b[0m         _assert_all_finite(\n\u001b[0;32m    960\u001b[0m             array,\n\u001b[0;32m    961\u001b[0m             input_name\u001b[38;5;241m=\u001b[39minput_name,\n\u001b[0;32m    962\u001b[0m             estimator_name\u001b[38;5;241m=\u001b[39mestimator_name,\n\u001b[0;32m    963\u001b[0m             allow_nan\u001b[38;5;241m=\u001b[39mforce_all_finite \u001b[38;5;241m==\u001b[39m \u001b[38;5;124m\"\u001b[39m\u001b[38;5;124mallow-nan\u001b[39m\u001b[38;5;124m\"\u001b[39m,\n\u001b[0;32m    964\u001b[0m         )\n\u001b[0;32m    966\u001b[0m \u001b[38;5;28;01mif\u001b[39;00m ensure_min_samples \u001b[38;5;241m>\u001b[39m \u001b[38;5;241m0\u001b[39m:\n\u001b[0;32m    967\u001b[0m     n_samples \u001b[38;5;241m=\u001b[39m _num_samples(array)\n",
      "File \u001b[1;32m~\\anaconda3\\Lib\\site-packages\\sklearn\\utils\\validation.py:124\u001b[0m, in \u001b[0;36m_assert_all_finite\u001b[1;34m(X, allow_nan, msg_dtype, estimator_name, input_name)\u001b[0m\n\u001b[0;32m    121\u001b[0m \u001b[38;5;28;01mif\u001b[39;00m first_pass_isfinite:\n\u001b[0;32m    122\u001b[0m     \u001b[38;5;28;01mreturn\u001b[39;00m\n\u001b[1;32m--> 124\u001b[0m _assert_all_finite_element_wise(\n\u001b[0;32m    125\u001b[0m     X,\n\u001b[0;32m    126\u001b[0m     xp\u001b[38;5;241m=\u001b[39mxp,\n\u001b[0;32m    127\u001b[0m     allow_nan\u001b[38;5;241m=\u001b[39mallow_nan,\n\u001b[0;32m    128\u001b[0m     msg_dtype\u001b[38;5;241m=\u001b[39mmsg_dtype,\n\u001b[0;32m    129\u001b[0m     estimator_name\u001b[38;5;241m=\u001b[39mestimator_name,\n\u001b[0;32m    130\u001b[0m     input_name\u001b[38;5;241m=\u001b[39minput_name,\n\u001b[0;32m    131\u001b[0m )\n",
      "File \u001b[1;32m~\\anaconda3\\Lib\\site-packages\\sklearn\\utils\\validation.py:173\u001b[0m, in \u001b[0;36m_assert_all_finite_element_wise\u001b[1;34m(X, xp, allow_nan, msg_dtype, estimator_name, input_name)\u001b[0m\n\u001b[0;32m    156\u001b[0m \u001b[38;5;28;01mif\u001b[39;00m estimator_name \u001b[38;5;129;01mand\u001b[39;00m input_name \u001b[38;5;241m==\u001b[39m \u001b[38;5;124m\"\u001b[39m\u001b[38;5;124mX\u001b[39m\u001b[38;5;124m\"\u001b[39m \u001b[38;5;129;01mand\u001b[39;00m has_nan_error:\n\u001b[0;32m    157\u001b[0m     \u001b[38;5;66;03m# Improve the error message on how to handle missing values in\u001b[39;00m\n\u001b[0;32m    158\u001b[0m     \u001b[38;5;66;03m# scikit-learn.\u001b[39;00m\n\u001b[0;32m    159\u001b[0m     msg_err \u001b[38;5;241m+\u001b[39m\u001b[38;5;241m=\u001b[39m (\n\u001b[0;32m    160\u001b[0m         \u001b[38;5;124mf\u001b[39m\u001b[38;5;124m\"\u001b[39m\u001b[38;5;130;01m\\n\u001b[39;00m\u001b[38;5;132;01m{\u001b[39;00mestimator_name\u001b[38;5;132;01m}\u001b[39;00m\u001b[38;5;124m does not accept missing values\u001b[39m\u001b[38;5;124m\"\u001b[39m\n\u001b[0;32m    161\u001b[0m         \u001b[38;5;124m\"\u001b[39m\u001b[38;5;124m encoded as NaN natively. For supervised learning, you might want\u001b[39m\u001b[38;5;124m\"\u001b[39m\n\u001b[1;32m   (...)\u001b[0m\n\u001b[0;32m    171\u001b[0m         \u001b[38;5;124m\"\u001b[39m\u001b[38;5;124m#estimators-that-handle-nan-values\u001b[39m\u001b[38;5;124m\"\u001b[39m\n\u001b[0;32m    172\u001b[0m     )\n\u001b[1;32m--> 173\u001b[0m \u001b[38;5;28;01mraise\u001b[39;00m \u001b[38;5;167;01mValueError\u001b[39;00m(msg_err)\n",
      "\u001b[1;31mValueError\u001b[0m: Input X contains NaN.\nRandomForestClassifier does not accept missing values encoded as NaN natively. For supervised learning, you might want to consider sklearn.ensemble.HistGradientBoostingClassifier and Regressor which accept missing values encoded as NaNs natively. Alternatively, it is possible to preprocess the data, for instance by using an imputer transformer in a pipeline or drop samples with missing values. See https://scikit-learn.org/stable/modules/impute.html You can find a list of all estimators that handle NaN values at the following page: https://scikit-learn.org/stable/modules/impute.html#estimators-that-handle-nan-values"
     ]
    }
   ],
   "source": [
    "# Load the preprocessing pipeline\n",
    "random_forest_model = joblib.load('random_forest_model.joblib')\n",
    "\n",
    "new_data_processed = application_test\n",
    "\n",
    "# Make predictions using the trained model\n",
    "new_data_predictions = random_forest_model.predict_proba(new_data_processed)[:, 1]\n",
    "\n",
    "# Insert predictions into the new dataset\n",
    "new_data['Predicted_TARGET'] = new_data_predictions\n",
    "\n",
    "# If you want to convert predicted probabilities to classes (0 or 1)\n",
    "# new_data['Predicted_TARGET_Class'] = rf_classifier.predict(new_data_processed)\n",
    "\n",
    "# Now, 'new_data' will have a new column 'Predicted_TARGET' containing the predicted probabilities\n",
    "# You can adjust the column name based on your preference"
   ]
  },
  {
   "cell_type": "code",
   "execution_count": 30,
   "id": "ca0590e3",
   "metadata": {
    "scrolled": true
   },
   "outputs": [
    {
     "name": "stderr",
     "output_type": "stream",
     "text": [
      "C:\\Users\\user\\anaconda3\\Lib\\site-packages\\sklearn\\experimental\\enable_hist_gradient_boosting.py:15: UserWarning: Since version 1.0, it is not needed to import enable_hist_gradient_boosting anymore. HistGradientBoostingClassifier and HistGradientBoostingRegressor are now stable and can be normally imported from sklearn.ensemble.\n",
      "  warnings.warn(\n"
     ]
    },
    {
     "name": "stdout",
     "output_type": "stream",
     "text": [
      "AUC on test set: 0.7503256621797655\n",
      "AUC on training set: 0.9041438809578631\n"
     ]
    },
    {
     "data": {
      "text/plain": [
       "['hist_gradient_boosting_model.joblib']"
      ]
     },
     "execution_count": 30,
     "metadata": {},
     "output_type": "execute_result"
    }
   ],
   "source": [
    "from sklearn.experimental import enable_hist_gradient_boosting  # noqa\n",
    "from sklearn.ensemble import HistGradientBoostingClassifier\n",
    "from sklearn.model_selection import train_test_split\n",
    "from sklearn.metrics import roc_auc_score\n",
    "import joblib\n",
    "\n",
    "# Assuming 'application_train2' is your preprocessed dataset\n",
    "application_train2 = application_train.dropna()\n",
    "train = application_train2.drop(columns=['TARGET'])\n",
    "label = application_train2['TARGET']\n",
    "\n",
    "# Split your data into training and testing sets\n",
    "x_train, x_test, y_train, y_test = train_test_split(train, label, test_size=0.2, random_state=42)\n",
    "\n",
    "# Create a HistGradientBoostingClassifier\n",
    "hist_gb_classifier = HistGradientBoostingClassifier(random_state=42, max_depth=3, class_weight='balanced')\n",
    "\n",
    "# Model training\n",
    "hist_gb_classifier.fit(x_train, y_train)\n",
    "\n",
    "# Making predictions\n",
    "hist_gb_pred = hist_gb_classifier.predict_proba(x_test)[:, 1]\n",
    "hist_gb_pred_train = hist_gb_classifier.predict_proba(x_train)[:, 1]\n",
    "\n",
    "# Print AUC scores\n",
    "print(\"AUC on test set:\", roc_auc_score(y_test, hist_gb_pred))\n",
    "print(\"AUC on training set:\", roc_auc_score(y_train, hist_gb_pred_train))\n",
    "\n",
    "# Save the trained model to a joblib file\n",
    "joblib.dump(hist_gb_classifier, 'hist_gradient_boosting_model.joblib')\n"
   ]
  },
  {
   "cell_type": "code",
   "execution_count": 32,
   "id": "3044732f",
   "metadata": {},
   "outputs": [],
   "source": [
    "# Load the preprocessing pipeline\n",
    "hist_gradient_boosting_model = joblib.load('hist_gradient_boosting_model.joblib')\n",
    "\n",
    "application_test_processed = application_test\n",
    "\n",
    "# Make predictions using the trained model\n",
    "application_test_predictions = hist_gradient_boosting_model.predict_proba(application_test_processed)[:, 1]\n",
    "\n",
    "# Insert predictions into the new dataset\n",
    "application_test['Predicted_TARGET'] = application_test_predictions\n",
    "\n",
    "# If you want to convert predicted probabilities to classes (0 or 1)\n",
    "# new_data['Predicted_TARGET_Class'] = rf_classifier.predict(new_data_processed)\n",
    "\n",
    "# Now, 'new_data' will have a new column 'Predicted_TARGET' containing the predicted probabilities\n",
    "# You can adjust the column name based on your preference"
   ]
  },
  {
   "cell_type": "code",
   "execution_count": 33,
   "id": "94fca239",
   "metadata": {},
   "outputs": [
    {
     "name": "stdout",
     "output_type": "stream",
     "text": [
      "<class 'pandas.core.frame.DataFrame'>\n",
      "RangeIndex: 48744 entries, 0 to 48743\n",
      "Columns: 241 entries, FLAG_EMP_PHONE to Predicted_TARGET\n",
      "dtypes: bool(132), float64(67), int32(3), int64(39)\n",
      "memory usage: 46.1 MB\n",
      "None\n"
     ]
    }
   ],
   "source": [
    "print(application_test.info())"
   ]
  },
  {
   "cell_type": "code",
   "execution_count": 34,
   "id": "e827f6aa",
   "metadata": {},
   "outputs": [
    {
     "name": "stdout",
     "output_type": "stream",
     "text": [
      "0     0.402039\n",
      "1     0.467689\n",
      "2     0.353140\n",
      "3     0.190370\n",
      "4     0.567214\n",
      "5     0.219659\n",
      "6     0.117366\n",
      "7     0.362668\n",
      "8     0.123144\n",
      "9     0.376784\n",
      "10    0.529518\n",
      "11    0.266626\n",
      "12    0.465098\n",
      "13    0.725738\n",
      "14    0.215373\n",
      "15    0.272138\n",
      "16    0.496559\n",
      "17    0.250688\n",
      "18    0.425406\n",
      "19    0.215447\n",
      "Name: Predicted_TARGET, dtype: float64\n"
     ]
    }
   ],
   "source": [
    "# Assuming 'new_data' is your DataFrame and 'Predicted_TARGET' is the column you want to query\n",
    "predicted_target_values = application_test['Predicted_TARGET']\n",
    "\n",
    "# Display all the values\n",
    "print(predicted_target_values.head(20))\n"
   ]
  },
  {
   "cell_type": "code",
   "execution_count": 35,
   "id": "fa8e1c99",
   "metadata": {},
   "outputs": [],
   "source": [
    "threshold = 0.5\n",
    "application_test['Predicted_TARGET'] = application_test['Predicted_TARGET'] > threshold"
   ]
  },
  {
   "cell_type": "code",
   "execution_count": 36,
   "id": "76ccb230",
   "metadata": {},
   "outputs": [
    {
     "name": "stdout",
     "output_type": "stream",
     "text": [
      "0     False\n",
      "1     False\n",
      "2     False\n",
      "3     False\n",
      "4      True\n",
      "5     False\n",
      "6     False\n",
      "7     False\n",
      "8     False\n",
      "9     False\n",
      "10     True\n",
      "11    False\n",
      "12    False\n",
      "13     True\n",
      "14    False\n",
      "15    False\n",
      "16    False\n",
      "17    False\n",
      "18    False\n",
      "19    False\n",
      "Name: Predicted_TARGET, dtype: bool\n"
     ]
    }
   ],
   "source": [
    "# Assuming 'new_data' is your DataFrame and 'Predicted_TARGET' is the column you want to query\n",
    "predicted_target_values = application_test['Predicted_TARGET']\n",
    "\n",
    "# Display all the values\n",
    "print(predicted_target_values.head(20))\n"
   ]
  },
  {
   "cell_type": "code",
   "execution_count": 37,
   "id": "8aaf5bac",
   "metadata": {},
   "outputs": [],
   "source": [
    "# Assuming 'new_data' is your DataFrame\n",
    "application_test.to_csv('application_test_predicted.csv', index=False)"
   ]
  },
  {
   "cell_type": "code",
   "execution_count": 39,
   "id": "382a63d1",
   "metadata": {},
   "outputs": [
    {
     "name": "stdout",
     "output_type": "stream",
     "text": [
      "AUC on test set: 0.663411809975677\n",
      "AUC on training set: 1.0\n"
     ]
    }
   ],
   "source": [
    "from sklearn.experimental import enable_hist_gradient_boosting  # noqa\n",
    "from sklearn.ensemble import HistGradientBoostingClassifier\n",
    "from sklearn.model_selection import train_test_split\n",
    "from sklearn.metrics import roc_auc_score\n",
    "import joblib\n",
    "\n",
    "# Assuming 'application_train2' is your preprocessed dataset\n",
    "application_train2 = application_train.dropna()\n",
    "train = application_train2.drop(columns=['TARGET'])\n",
    "label = application_train2['TARGET']\n",
    "\n",
    "# Split your data into training and testing sets\n",
    "x_train, x_test, y_train, y_test = train_test_split(train, label, test_size=0.2, random_state=42)\n",
    "\n",
    "# Create a HistGradientBoostingClassifier\n",
    "hist_gb_classifier = HistGradientBoostingClassifier(max_iter=10000, random_state=42, max_depth=3, class_weight='balanced')\n",
    "\n",
    "# Model training\n",
    "hist_gb_classifier.fit(x_train, y_train)\n",
    "\n",
    "# Making predictions\n",
    "hist_gb_pred = hist_gb_classifier.predict_proba(x_test)[:, 1]\n",
    "hist_gb_pred_train = hist_gb_classifier.predict_proba(x_train)[:, 1]\n",
    "\n",
    "# Print AUC scores\n",
    "print(\"AUC on test set:\", roc_auc_score(y_test, hist_gb_pred))\n",
    "print(\"AUC on training set:\", roc_auc_score(y_train, hist_gb_pred_train))"
   ]
  },
  {
   "cell_type": "code",
   "execution_count": 42,
   "id": "348e2c73",
   "metadata": {},
   "outputs": [
    {
     "name": "stdout",
     "output_type": "stream",
     "text": [
      "Best Hyperparameters: {'learning_rate': 0.01, 'max_depth': 3, 'max_iter': 100, 'min_samples_leaf': 1}\n",
      "AUC on Test Set: 0.7420402514923977\n"
     ]
    }
   ],
   "source": [
    "from sklearn.experimental import enable_hist_gradient_boosting  # noqa\n",
    "from sklearn.ensemble import HistGradientBoostingClassifier\n",
    "from sklearn.model_selection import GridSearchCV, train_test_split\n",
    "from sklearn.metrics import make_scorer, roc_auc_score\n",
    "\n",
    "# Split your data into training and testing sets\n",
    "x_train, x_test, y_train, y_test = train_test_split(train, label, test_size=0.2, random_state=42)\n",
    "\n",
    "# Create a HistGradientBoostingClassifier\n",
    "hist_gb_classifier = HistGradientBoostingClassifier(random_state=42, class_weight='balanced')\n",
    "\n",
    "# Define the hyperparameter grid\n",
    "param_grid = {\n",
    "    'learning_rate': [0.01, 0.1, 0.2],\n",
    "    'max_depth': [3, 5, 7],\n",
    "    'min_samples_leaf': [1, 2, 4],  # Example replacement for min_samples_split\n",
    "    'max_iter': [50, 100, 200]\n",
    "    # Add other valid hyperparameters to the grid\n",
    "}\n",
    "\n",
    "\n",
    "# Choose a scoring metric (e.g., AUC)\n",
    "scorer = make_scorer(roc_auc_score)\n",
    "\n",
    "# Perform grid search with cross-validation\n",
    "grid_search = GridSearchCV(hist_gb_classifier, param_grid, scoring=scorer, cv=3)\n",
    "grid_search.fit(x_train, y_train)\n",
    "\n",
    "# Print the best hyperparameters\n",
    "print(\"Best Hyperparameters:\", grid_search.best_params_)\n",
    "\n",
    "# Get the best model\n",
    "best_model = grid_search.best_estimator_\n",
    "\n",
    "# Evaluate the best model on the test set\n",
    "y_pred = best_model.predict_proba(x_test)[:, 1]\n",
    "auc_score = roc_auc_score(y_test, y_pred)\n",
    "print(\"AUC on Test Set:\", auc_score)"
   ]
  },
  {
   "cell_type": "code",
   "execution_count": 44,
   "id": "cf309b84",
   "metadata": {},
   "outputs": [
    {
     "name": "stdout",
     "output_type": "stream",
     "text": [
      "AUC on test set: 0.7420402514923977\n",
      "AUC on training set: 0.7796744281986339\n"
     ]
    },
    {
     "data": {
      "text/plain": [
       "['hist_gradient_boosting_model2.joblib']"
      ]
     },
     "execution_count": 44,
     "metadata": {},
     "output_type": "execute_result"
    }
   ],
   "source": [
    "from sklearn.experimental import enable_hist_gradient_boosting  # noqa\n",
    "from sklearn.ensemble import HistGradientBoostingClassifier\n",
    "from sklearn.model_selection import train_test_split\n",
    "from sklearn.metrics import roc_auc_score\n",
    "import joblib\n",
    "\n",
    "# Assuming 'application_train2' is your preprocessed dataset\n",
    "application_train2 = application_train.dropna()\n",
    "train = application_train2.drop(columns=['TARGET'])\n",
    "label = application_train2['TARGET']\n",
    "\n",
    "# Split your data into training and testing sets\n",
    "x_train, x_test, y_train, y_test = train_test_split(train, label, test_size=0.2, random_state=42)\n",
    "\n",
    "# Create a HistGradientBoostingClassifier\n",
    "hist_gb_classifier = HistGradientBoostingClassifier(random_state=42, max_depth=3, class_weight='balanced', learning_rate=0.01, max_iter=100, min_samples_leaf=1)\n",
    "\n",
    "# Model training\n",
    "hist_gb_classifier.fit(x_train, y_train)\n",
    "\n",
    "# Making predictions\n",
    "hist_gb_pred = hist_gb_classifier.predict_proba(x_test)[:, 1]\n",
    "hist_gb_pred_train = hist_gb_classifier.predict_proba(x_train)[:, 1]\n",
    "\n",
    "# Print AUC scores\n",
    "print(\"AUC on test set:\", roc_auc_score(y_test, hist_gb_pred))\n",
    "print(\"AUC on training set:\", roc_auc_score(y_train, hist_gb_pred_train))\n",
    "\n",
    "# Save the trained model to a joblib file\n",
    "joblib.dump(hist_gb_classifier, 'hist_gradient_boosting_model2.joblib')"
   ]
  },
  {
   "cell_type": "code",
   "execution_count": null,
   "id": "56cdba61",
   "metadata": {},
   "outputs": [],
   "source": []
  }
 ],
 "metadata": {
  "kernelspec": {
   "display_name": "Python 3 (ipykernel)",
   "language": "python",
   "name": "python3"
  },
  "language_info": {
   "codemirror_mode": {
    "name": "ipython",
    "version": 3
   },
   "file_extension": ".py",
   "mimetype": "text/x-python",
   "name": "python",
   "nbconvert_exporter": "python",
   "pygments_lexer": "ipython3",
   "version": "3.11.5"
  }
 },
 "nbformat": 4,
 "nbformat_minor": 5
}
